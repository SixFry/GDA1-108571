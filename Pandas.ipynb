{
 "cells": [
  {
   "cell_type": "markdown",
   "id": "4a4d9b09-b8ae-45e6-b6e5-19d44a671f4b",
   "metadata": {},
   "source": [
    "# Introduction to Pandas DataFrames"
   ]
  },
  {
   "cell_type": "markdown",
   "id": "bd4990ca-f57a-49d4-8e73-a43dce0d3625",
   "metadata": {},
   "source": [
    "![Pandas](su-baumasi\\OneDrive - items GmbH & Co. KG\\UNIGIS\\Modul_5_Grundlagen_Anwendungsentwicklung\\Aufgabe_4\\GDA1-108571-main\\GDA1-108571-main\\Pandas.webp)"
   ]
  },
  {
   "cell_type": "markdown",
   "id": "64aeb3e3-e055-430f-8783-9adbbaa0d1ee",
   "metadata": {},
   "source": [
    "[Pandas](https://pandas.pydata.org/) is a powerful and versatile library for Python, designed primarily for data manipulation and analysis. To quote from Nvidia’s website:"
   ]
  },
  {
   "cell_type": "markdown",
   "id": "4e07db98-24ef-4485-a0be-3cd6c8f42d46",
   "metadata": {},
   "source": []
  },
  {
   "cell_type": "markdown",
   "id": "63535940-929b-4cbc-b312-0a6dfb27b5a0",
   "metadata": {},
   "source": [
    "Here is an (incomplete) list of some key functionalities provided by Pandas:"
   ]
  },
  {
   "cell_type": "markdown",
   "id": "07f4dbcd-9628-4eb4-9ab0-b1ced9729312",
   "metadata": {},
   "source": [
    "1. **Data Structures**\n",
    "2. **Data Manipulation**\n",
    "3. **Data Cleaning**\n",
    "4. **Aggregation and Grouping**\n",
    "5. **Merging and Joining**\n",
    "6. **Time Series**\n",
    "7. **Statistical and Mathematical Operations**"
   ]
  },
  {
   "cell_type": "markdown",
   "id": "fccbd1a9-8de3-40d6-9314-c6fed3ec834a",
   "metadata": {},
   "source": [
    "At the heart of Pandas lies the DataFrame, a two-dimensional labeled data structure with columns of potentially different types, similar to a table in a relational database or an Excel spreadsheet. Understanding DataFrames is crucial for anyone looking to perform data analysis in Python."
   ]
  },
  {
   "cell_type": "markdown",
   "id": "ed8ec158-cca9-4571-8654-551408ab57e7",
   "metadata": {},
   "source": [
    "## What is a DataFrame?"
   ]
  },
  {
   "cell_type": "markdown",
   "id": "6b78774f-3528-435a-9d54-c43cbf753a35",
   "metadata": {},
   "source": [
    "A DataFrame is a table-like structure in Pandas that consists of rows and columns, where each column can hold different data types (e.g., integers, floats, strings). You can think of it as a collection of Series objects, where each Series is a single column of data. DataFrames provide a highly efficient way to store and manipulate large datasets in memory."
   ]
  },
  {
   "cell_type": "markdown",
   "id": "5029af35-bc5e-41ae-b7c8-7482a117365f",
   "metadata": {},
   "source": [
    "## Creating a DataFrame"
   ]
  },
  {
   "cell_type": "markdown",
   "id": "660aac09-0b99-4b8d-9e47-e336a0d240df",
   "metadata": {},
   "source": [
    "There are several ways to create a DataFrame in Pandas, but some of the most common methods are:"
   ]
  },
  {
   "cell_type": "markdown",
   "id": "a4339a48-fd64-4432-a527-b38d50d09234",
   "metadata": {},
   "source": [
    "1. From a Dictionary\n",
    "2. From a List of Lists\n",
    "3. From a CSV File"
   ]
  },
  {
   "cell_type": "markdown",
   "id": "f9da22de-2d94-4bbf-adae-0a6334621229",
   "metadata": {},
   "source": [
    "Below we take a look at the first two approaches."
   ]
  }
 ],
 "metadata": {
  "kernelspec": {
   "display_name": "Python 3 (ipykernel)",
   "language": "python",
   "name": "python3"
  },
  "language_info": {
   "codemirror_mode": {
    "name": "ipython",
    "version": 3
   },
   "file_extension": ".py",
   "mimetype": "text/x-python",
   "name": "python",
   "nbconvert_exporter": "python",
   "pygments_lexer": "ipython3",
   "version": "3.11.10"
  }
 },
 "nbformat": 4,
 "nbformat_minor": 5
}
