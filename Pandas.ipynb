{
 "cells": [
  {
   "cell_type": "markdown",
   "id": "4a4d9b09-b8ae-45e6-b6e5-19d44a671f4b",
   "metadata": {},
   "source": [
    "# Introduction to Pandas DataFrames"
   ]
  },
  {
   "cell_type": "markdown",
   "id": "bd4990ca-f57a-49d4-8e73-a43dce0d3625",
   "metadata": {},
   "source": [
    "![Pandas](Pandas.webp)"
   ]
  },
  {
   "cell_type": "markdown",
   "id": "64aeb3e3-e055-430f-8783-9adbbaa0d1ee",
   "metadata": {},
   "source": [
    "[Pandas](https://pandas.pydata.org/) is a powerful and versatile library for Python, designed primarily for data manipulation and analysis. To quote from Nvidia’s website:"
   ]
  },
  {
   "cell_type": "markdown",
   "id": "4e07db98-24ef-4485-a0be-3cd6c8f42d46",
   "metadata": {},
   "source": [
    "> Pandas is the most popular software library for data manipulation and data analysis for the Python programming language. [(www.nvidia.com)](https://www.nvidia.com/en-us/glossary/pandas-python/)"
   ]
  },
  {
   "cell_type": "markdown",
   "id": "63535940-929b-4cbc-b312-0a6dfb27b5a0",
   "metadata": {},
   "source": [
    "Here is an (incomplete) list of some key functionalities provided by Pandas:\n",
    "1. **Data Structures**\n",
    "   * *Series*: One-dimensional labeled array capable of holding data of any type.\n",
    "   * *DataFrame*: Two-dimensional, size-mutable, potentially heterogeneous tabular data structure with labeled axes (rows and columns).\n",
    "2. **Data Manipulation**\n",
    "   * *Data Selection and Indexing*: Access data via labels, indices, or boolean masks (`.loc`, `.iloc`, `.at`, `.iat`).\n",
    "   * *Filtering*: Filter data based on conditions or queries.\n",
    "   * *Sorting*: Sort data by labels or values.\n",
    "   * *Handling Missing Data*: Identify, fill, or drop missing values (`isnull`, `dropna`, `fillna`).\n",
    "3. **Data Cleaning**\n",
    "   * *Dropping Duplicates*: Remove duplicate rows or columns.\n",
    "   * *Replacing Values*: Replace specific values in the DataFrame.\n",
    "   * *String Operations*: Perform operations on string data, like splitting, replacing, and pattern matching (`str.split`, `str.replace`).\n",
    "4. **Aggregation and Grouping**\n",
    "   * *Group By*: Split data into groups based on criteria, and perform aggregate functions like sum, mean, or custom operations.\n",
    "   * *Pivot Tables*: Create a pivot table to summarize data.\n",
    "5. **Merging and Joining**\n",
    "   * *Concatenation*: Combine multiple DataFrames along a particular axis.\n",
    "   * *Merging*: Merge DataFrames similar to SQL joins (`merge`, `join`).\n",
    "6. **Time Series**\n",
    "   * *Datetime Conversion*: Convert date and time data to a datetime object.\n",
    "   * *Resampling*: Aggregate data over a time period.\n",
    "   * *Time-based Indexing*: Access and manipulate time-series data easily with date indexing.\n",
    "7. **Statistical and Mathematical Operations**\n",
    "   * *Descriptive Statistics*: Compute summary statistics for DataFrame columns.\n",
    "   * *Correlation/ Covariance*: Calculate the pairwise correlation or covariance between columns.\n",
    "   * *Cumulative Operations*: Perform cumulative operations on data."
   ]
  },
  {
   "cell_type": "markdown",
   "id": "fccbd1a9-8de3-40d6-9314-c6fed3ec834a",
   "metadata": {},
   "source": [
    "At the heart of Pandas lies the DataFrame, a two-dimensional labeled data structure with columns of potentially different types, similar to a table in a relational database or an Excel spreadsheet. Understanding DataFrames is crucial for anyone looking to perform data analysis in Python."
   ]
  },
  {
   "cell_type": "markdown",
   "id": "ed8ec158-cca9-4571-8654-551408ab57e7",
   "metadata": {},
   "source": [
    "## What is a DataFrame?\n",
    "---"
   ]
  },
  {
   "cell_type": "markdown",
   "id": "6b78774f-3528-435a-9d54-c43cbf753a35",
   "metadata": {},
   "source": [
    "A DataFrame is a table-like structure in Pandas that consists of rows and columns, where each column can hold different data types (e.g., integers, floats, strings). You can think of it as a collection of Series objects, where each Series is a single column of data. DataFrames provide a highly efficient way to store and manipulate large datasets in memory."
   ]
  },
  {
   "cell_type": "markdown",
   "id": "5029af35-bc5e-41ae-b7c8-7482a117365f",
   "metadata": {},
   "source": [
    "## Creating a DataFrame\n",
    "---"
   ]
  },
  {
   "cell_type": "markdown",
   "id": "660aac09-0b99-4b8d-9e47-e336a0d240df",
   "metadata": {},
   "source": [
    "There are several ways to create a DataFrame in Pandas, but some of the most common methods are:\n",
    "1. From a Dictionary\n",
    "2. From a List of Lists\n",
    "3. From a CSV File"
   ]
  },
  {
   "cell_type": "markdown",
   "id": "f9da22de-2d94-4bbf-adae-0a6334621229",
   "metadata": {},
   "source": [
    "Below we take a look at the first two approaches."
   ]
  },
  {
   "cell_type": "markdown",
   "id": "92d472e8-fab1-4da9-832c-006e5391b341",
   "metadata": {},
   "source": [
    "### Creating DataFrame from a Dictionary"
   ]
  },
  {
   "cell_type": "markdown",
   "id": "766bff46-f421-4ac1-bc96-d80a296a0285",
   "metadata": {},
   "source": [
    "The following code will create a DataFrame with three columns: ‘Name’, ‘Age’, and ‘City’, and three rows corresponding to the data provided in the dictionary. To be able to use Pandas, we first have to import it. This is done using the command `import pandas as pd`, introducing the alias `pd` for Pandas."
   ]
  },
  {
   "cell_type": "code",
   "execution_count": 2,
   "id": "8533ed84-923e-4c33-a0b3-70366d88ceaa",
   "metadata": {},
   "outputs": [
    {
     "data": {
      "text/html": [
       "<div>\n",
       "<style scoped>\n",
       "    .dataframe tbody tr th:only-of-type {\n",
       "        vertical-align: middle;\n",
       "    }\n",
       "\n",
       "    .dataframe tbody tr th {\n",
       "        vertical-align: top;\n",
       "    }\n",
       "\n",
       "    .dataframe thead th {\n",
       "        text-align: right;\n",
       "    }\n",
       "</style>\n",
       "<table border=\"1\" class=\"dataframe\">\n",
       "  <thead>\n",
       "    <tr style=\"text-align: right;\">\n",
       "      <th></th>\n",
       "      <th>Name</th>\n",
       "      <th>Age</th>\n",
       "      <th>City</th>\n",
       "    </tr>\n",
       "  </thead>\n",
       "  <tbody>\n",
       "    <tr>\n",
       "      <th>0</th>\n",
       "      <td>Alice</td>\n",
       "      <td>25</td>\n",
       "      <td>New York</td>\n",
       "    </tr>\n",
       "    <tr>\n",
       "      <th>1</th>\n",
       "      <td>Bob</td>\n",
       "      <td>30</td>\n",
       "      <td>Los Angeles</td>\n",
       "    </tr>\n",
       "    <tr>\n",
       "      <th>2</th>\n",
       "      <td>Charlie</td>\n",
       "      <td>35</td>\n",
       "      <td>Chicago</td>\n",
       "    </tr>\n",
       "  </tbody>\n",
       "</table>\n",
       "</div>"
      ],
      "text/plain": [
       "      Name  Age         City\n",
       "0    Alice   25     New York\n",
       "1      Bob   30  Los Angeles\n",
       "2  Charlie   35      Chicago"
      ]
     },
     "execution_count": 2,
     "metadata": {},
     "output_type": "execute_result"
    }
   ],
   "source": [
    "import pandas as pd\n",
    "\n",
    "data = {\n",
    "    'Name': ['Alice', 'Bob', 'Charlie'],\n",
    "    'Age': [25, 30, 35],\n",
    "    'City': ['New York', 'Los Angeles', 'Chicago']\n",
    "}\n",
    "\n",
    "df = pd.DataFrame(data)\n",
    "df"
   ]
  },
  {
   "cell_type": "markdown",
   "id": "cdbc2a11-2d7d-461a-96f2-e91da3c855f2",
   "metadata": {},
   "source": [
    "### Creating DataFrame from a List of Lists"
   ]
  },
  {
   "cell_type": "markdown",
   "id": "26695dda-ca75-4857-b88a-446db89045b4",
   "metadata": {},
   "source": [
    "Here, we create the DataFrame from a list of lists where each inner list represents the values for one row. Note that We explicitly specify the column names when creating the DataFrame."
   ]
  },
  {
   "cell_type": "code",
   "execution_count": 3,
   "id": "8f3e060f-b2da-4f5f-84e1-1330d33d69aa",
   "metadata": {},
   "outputs": [
    {
     "data": {
      "text/html": [
       "<div>\n",
       "<style scoped>\n",
       "    .dataframe tbody tr th:only-of-type {\n",
       "        vertical-align: middle;\n",
       "    }\n",
       "\n",
       "    .dataframe tbody tr th {\n",
       "        vertical-align: top;\n",
       "    }\n",
       "\n",
       "    .dataframe thead th {\n",
       "        text-align: right;\n",
       "    }\n",
       "</style>\n",
       "<table border=\"1\" class=\"dataframe\">\n",
       "  <thead>\n",
       "    <tr style=\"text-align: right;\">\n",
       "      <th></th>\n",
       "      <th>Name</th>\n",
       "      <th>Age</th>\n",
       "      <th>City</th>\n",
       "    </tr>\n",
       "  </thead>\n",
       "  <tbody>\n",
       "    <tr>\n",
       "      <th>0</th>\n",
       "      <td>Alice</td>\n",
       "      <td>25</td>\n",
       "      <td>New York</td>\n",
       "    </tr>\n",
       "    <tr>\n",
       "      <th>1</th>\n",
       "      <td>Bob</td>\n",
       "      <td>30</td>\n",
       "      <td>Los Angeles</td>\n",
       "    </tr>\n",
       "    <tr>\n",
       "      <th>2</th>\n",
       "      <td>Charlie</td>\n",
       "      <td>35</td>\n",
       "      <td>Chicago</td>\n",
       "    </tr>\n",
       "  </tbody>\n",
       "</table>\n",
       "</div>"
      ],
      "text/plain": [
       "      Name  Age         City\n",
       "0    Alice   25     New York\n",
       "1      Bob   30  Los Angeles\n",
       "2  Charlie   35      Chicago"
      ]
     },
     "execution_count": 3,
     "metadata": {},
     "output_type": "execute_result"
    }
   ],
   "source": [
    "data = [\n",
    "    ['Alice', 25, 'New York'],\n",
    "    ['Bob', 30, 'Los Angeles'],\n",
    "    ['Charlie', 35, 'Chicago']\n",
    "]\n",
    "\n",
    "df = pd.DataFrame(data, columns=['Name', 'Age', 'City'])\n",
    "df"
   ]
  },
  {
   "cell_type": "markdown",
   "id": "ace90c4e-c289-4405-be11-60a2c2e7e68d",
   "metadata": {},
   "source": [
    "## Accessing Data in a DataFrame\n",
    "---"
   ]
  },
  {
   "cell_type": "markdown",
   "id": "1cf5657e-0de7-461f-86ee-910d53ef23cb",
   "metadata": {},
   "source": [
    "Once you have a DataFrame, you can access its data in various ways:"
   ]
  },
  {
   "cell_type": "markdown",
   "id": "9c211c06-2393-48ed-b9c7-2bc650e9c1c1",
   "metadata": {},
   "source": [
    "* By column name:"
   ]
  },
  {
   "cell_type": "code",
   "execution_count": 10,
   "id": "6936e43c-b21c-48a5-a009-af6f3827ff07",
   "metadata": {},
   "outputs": [
    {
     "data": {
      "text/plain": [
       "0      Alice\n",
       "1        Bob\n",
       "2    Charlie\n",
       "Name: Name, dtype: object"
      ]
     },
     "execution_count": 10,
     "metadata": {},
     "output_type": "execute_result"
    }
   ],
   "source": [
    "df['Name']"
   ]
  },
  {
   "cell_type": "markdown",
   "id": "19cc8979-248d-42e4-ae80-7b3893ab3a9c",
   "metadata": {},
   "source": [
    "* By row index:"
   ]
  },
  {
   "cell_type": "code",
   "execution_count": 6,
   "id": "b78843d3-3de9-42e9-92ba-64bdbd9efd17",
   "metadata": {},
   "outputs": [
    {
     "data": {
      "text/plain": [
       "Name       Alice\n",
       "Age           25\n",
       "City    New York\n",
       "Name: 0, dtype: object"
      ]
     },
     "execution_count": 6,
     "metadata": {},
     "output_type": "execute_result"
    }
   ],
   "source": [
    "df.iloc[0]"
   ]
  },
  {
   "cell_type": "markdown",
   "id": "09af567d-2df6-44da-b564-b857b54f0e47",
   "metadata": {},
   "source": [
    "* Using both:"
   ]
  },
  {
   "cell_type": "code",
   "execution_count": 8,
   "id": "1697e42f-550f-4ff5-a6cf-11b7b57b2b64",
   "metadata": {},
   "outputs": [
    {
     "data": {
      "text/plain": [
       "'Alice'"
      ]
     },
     "execution_count": 8,
     "metadata": {},
     "output_type": "execute_result"
    }
   ],
   "source": [
    "df.loc[0, 'Name']"
   ]
  },
  {
   "cell_type": "markdown",
   "id": "4be4e24a-9d54-4a7d-b522-c2ba01e040ba",
   "metadata": {},
   "source": [
    "## Conclusion\n",
    "---"
   ]
  },
  {
   "cell_type": "markdown",
   "id": "e38774de-d85c-4e94-a223-2b93e506f8df",
   "metadata": {},
   "source": [
    "Pandas DataFrames are a fundamental tool in the data analysis toolkit for Python users. They provide a powerful way to organize, manipulate, and analyze data efficiently. Whether you’re working with small datasets or handling large-scale data, mastering DataFrames will allow you to tackle a wide range of data-related tasks with ease."
   ]
  },
  {
   "cell_type": "markdown",
   "id": "716378ae-dc1d-48df-9ebd-43e7bfaae2f9",
   "metadata": {},
   "source": [
    "In this introduction, we’ve covered the basics of what a DataFrame is, how to create one, and how to access columns, rows, and individual cells in a DataFrame. As you continue to explore Pandas, you’ll discover many more features and capabilities that make DataFrames an indispensable part of Python programming. The table below contains a number of resources related to Pandas."
   ]
  },
  {
   "cell_type": "markdown",
   "id": "3e4650fd-ba73-4f79-95e3-617ed02e79ab",
   "metadata": {},
   "source": [
    "---\n",
    "|                    **Resource**                                          | **Description**       |\n",
    "| :----------------------------------------------------------------------- | :---------------------|\n",
    "| [Pandas Documentation](https://pandas.pydata.org/) | Official Documentation for Pandas. |\n",
    "| [Python for Data Analysis](https://www.oreilly.com/library/view/python-for-data/9781491957653/)| Comprehensive guide by Pandas creator, Wes McKinney. |\n",
    "| [Real Python: The Pandas DataFrame](https://realpython.com/pandas-dataframe/)| Tutorials on using Pandas for data analysis. |\n",
    "| [Kaggle Pandas](https://www.kaggle.com/learn/pandas)| Free introductory course on Pandas by Kaggle. |\n",
    "| [DataCamp Pandas Tutorial](https://www.datacamp.com/community/tutorials/pandas-tutorial-dataframe-python)| Detailed tutorials and exercises on Pandas. |"
   ]
  },
  {
   "cell_type": "code",
   "execution_count": null,
   "id": "55626449-9fd2-471f-bf4f-5c25b246b29c",
   "metadata": {},
   "outputs": [],
   "source": []
  }
 ],
 "metadata": {
  "kernelspec": {
   "display_name": "Python 3 (ipykernel)",
   "language": "python",
   "name": "python3"
  },
  "language_info": {
   "codemirror_mode": {
    "name": "ipython",
    "version": 3
   },
   "file_extension": ".py",
   "mimetype": "text/x-python",
   "name": "python",
   "nbconvert_exporter": "python",
   "pygments_lexer": "ipython3",
   "version": "3.11.10"
  }
 },
 "nbformat": 4,
 "nbformat_minor": 5
}
